{
  "nbformat": 4,
  "nbformat_minor": 0,
  "metadata": {
    "colab": {
      "provenance": [],
      "authorship_tag": "ABX9TyNOgaLbfNLEcQ3bekszYmOn",
      "include_colab_link": true
    },
    "kernelspec": {
      "name": "python3",
      "display_name": "Python 3"
    },
    "language_info": {
      "name": "python"
    }
  },
  "cells": [
    {
      "cell_type": "markdown",
      "metadata": {
        "id": "view-in-github",
        "colab_type": "text"
      },
      "source": [
        "<a href=\"https://colab.research.google.com/github/vibhuverma17/AUTOML/blob/main/Pycaret_AUTOML.ipynb\" target=\"_parent\"><img src=\"https://colab.research.google.com/assets/colab-badge.svg\" alt=\"Open In Colab\"/></a>"
      ]
    },
    {
      "cell_type": "code",
      "execution_count": null,
      "metadata": {
        "id": "bPE1MCxRQZMP"
      },
      "outputs": [],
      "source": [
        "!pip install pycaret"
      ]
    },
    {
      "cell_type": "code",
      "source": [
        "import pandas as pd\n",
        "\n",
        "churn_df = pd.read_csv('https://raw.githubusercontent.com/srivatsan88/YouTubeLI/master/dataset/WA_Fn-UseC_-Telco-Customer-Churn.csv')\n",
        "\n",
        "churn_df.head()"
      ],
      "metadata": {
        "id": "0OPC9F_nSDv-"
      },
      "execution_count": null,
      "outputs": []
    },
    {
      "cell_type": "code",
      "source": [
        "from pycaret.classification import *\n",
        "churn_setup = setup(churn_df, target = 'Churn',ignore_features = ['customerID'],train_size=0.8)"
      ],
      "metadata": {
        "id": "lib8zFZ7kXXd"
      },
      "execution_count": null,
      "outputs": []
    },
    {
      "cell_type": "code",
      "source": [
        "best_model = compare_models(fold=5,sort='AUC')"
      ],
      "metadata": {
        "id": "-_hI5OiIn5yH"
      },
      "execution_count": null,
      "outputs": []
    },
    {
      "cell_type": "code",
      "source": [
        "xgb_model = create_model('xgboost')"
      ],
      "metadata": {
        "id": "47d583X813ur"
      },
      "execution_count": null,
      "outputs": []
    },
    {
      "cell_type": "markdown",
      "source": [
        "### THIS IS HOW YOU TUNE THE TOP MODELS"
      ],
      "metadata": {
        "id": "GDp4jyIZvBfx"
      }
    },
    {
      "cell_type": "code",
      "source": [
        "best_tuned_model = tune_model(xgb_model, fold=6, optimize='AUC')"
      ],
      "metadata": {
        "id": "Cz5Nfby6uIIA"
      },
      "execution_count": null,
      "outputs": []
    },
    {
      "cell_type": "code",
      "source": [
        "finalize_model(best_tuned_model)"
      ],
      "metadata": {
        "id": "JqCM3WxeFaUq"
      },
      "execution_count": null,
      "outputs": []
    },
    {
      "cell_type": "code",
      "source": [
        "interpret_model(best_tuned_model)"
      ],
      "metadata": {
        "id": "N8a3sfXkF6Nn"
      },
      "execution_count": null,
      "outputs": []
    },
    {
      "cell_type": "code",
      "source": [
        "plot_model = plot_model(best_tuned_model, plot='auc')"
      ],
      "metadata": {
        "id": "ioEYIS5DE-Uq"
      },
      "execution_count": null,
      "outputs": []
    },
    {
      "cell_type": "code",
      "source": [
        "# plot_model(best_tuned_model, plot='pr')        # Precision-Recall curve"
      ],
      "metadata": {
        "id": "abphdTanE-RI"
      },
      "execution_count": null,
      "outputs": []
    },
    {
      "cell_type": "code",
      "source": [
        "# plot_model(best_tuned_model, plot='feature')   # Feature importance (if supported)"
      ],
      "metadata": {
        "id": "2CN0m9JrE-Nf"
      },
      "execution_count": null,
      "outputs": []
    },
    {
      "cell_type": "code",
      "source": [
        "# plot_model(best_tuned_model, plot='confusion_matrix')"
      ],
      "metadata": {
        "id": "22uglLZ8APQw"
      },
      "execution_count": null,
      "outputs": []
    }
  ]
}