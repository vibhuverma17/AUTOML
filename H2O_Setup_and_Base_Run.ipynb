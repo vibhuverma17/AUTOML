{
  "nbformat": 4,
  "nbformat_minor": 0,
  "metadata": {
    "colab": {
      "provenance": [],
      "gpuType": "T4",
      "authorship_tag": "ABX9TyMZ7Bkoy4I2r2HH8fkejApI",
      "include_colab_link": true
    },
    "kernelspec": {
      "name": "python3",
      "display_name": "Python 3"
    },
    "language_info": {
      "name": "python"
    },
    "accelerator": "GPU"
  },
  "cells": [
    {
      "cell_type": "markdown",
      "metadata": {
        "id": "view-in-github",
        "colab_type": "text"
      },
      "source": [
        "<a href=\"https://colab.research.google.com/github/vibhuverma17/AUTOML/blob/main/H2O_Setup_and_Base_Run.ipynb\" target=\"_parent\"><img src=\"https://colab.research.google.com/assets/colab-badge.svg\" alt=\"Open In Colab\"/></a>"
      ]
    },
    {
      "cell_type": "code",
      "execution_count": null,
      "metadata": {
        "id": "5gALjW28-lvo"
      },
      "outputs": [],
      "source": [
        "# THIS COMMANF MIGHT BE RELEVANT ONLY ON GPU NODES, THIS NOTEBOOK RUNS ON CPU AS WELL\n",
        "# IF RUNNING ON CPU PLEASE COMMENT THIS COMMAND WHENEVER YOU SEE IT\n",
        "\n",
        "!nvidia-smi"
      ]
    },
    {
      "cell_type": "code",
      "source": [
        "!pip install h2o\n",
        "!apt-get install default-jre\n",
        "!java -version"
      ],
      "metadata": {
        "id": "AeezeBv7FfDG"
      },
      "execution_count": null,
      "outputs": []
    },
    {
      "cell_type": "code",
      "source": [
        "### THIS STARTS AN H2O CLUSTER\n",
        "import h2o\n",
        "from h2o.automl import H2OAutoML\n",
        "h2o.init()"
      ],
      "metadata": {
        "id": "Nnk4cH0eKdf7"
      },
      "execution_count": null,
      "outputs": []
    },
    {
      "cell_type": "markdown",
      "source": [
        "## AUTOML GIVES US A DEPLOYMENT READY CODE\n",
        "- MOJO\n",
        "- POJO\n",
        "- BINARY FORMAT\n",
        "\n",
        "\n",
        "\n",
        "- USES GPU FOR XGBOOST"
      ],
      "metadata": {
        "id": "mjiA0YC2HMqM"
      }
    },
    {
      "cell_type": "code",
      "source": [
        "churn_df = h2o.import_file('https://raw.githubusercontent.com/srivatsan88/YouTubeLI/master/dataset/WA_Fn-UseC_-Telco-Customer-Churn.csv')"
      ],
      "metadata": {
        "id": "-Ndar3MoK-jD"
      },
      "execution_count": null,
      "outputs": []
    },
    {
      "cell_type": "code",
      "source": [
        "churn_df.describe()"
      ],
      "metadata": {
        "id": "EAQcS-L7LGy-"
      },
      "execution_count": null,
      "outputs": []
    },
    {
      "cell_type": "code",
      "source": [
        "churn_train,churn_test,churn_valid = churn_df.split_frame(ratios=[.7, .15])\n",
        "\n",
        "y = \"Churn\"\n",
        "x = churn_df.columns\n",
        "x.remove(y)\n",
        "x.remove(\"customerID\")"
      ],
      "metadata": {
        "id": "yA8ZSzGPLTVs"
      },
      "execution_count": null,
      "outputs": []
    },
    {
      "cell_type": "code",
      "source": [
        "aml = H2OAutoML(max_models = 10, seed = 10, exclude_algos = [\"StackedEnsemble\", \"DeepLearning\"], verbosity=\"info\", nfolds=0)\n",
        "aml.train(x = x, y = y, training_frame = churn_train, validation_frame=churn_valid)"
      ],
      "metadata": {
        "id": "P9S3w34XLWx-"
      },
      "execution_count": null,
      "outputs": []
    },
    {
      "cell_type": "code",
      "source": [
        "!nvidia-smi"
      ],
      "metadata": {
        "id": "LSH2jYwgL_58"
      },
      "execution_count": null,
      "outputs": []
    },
    {
      "cell_type": "code",
      "source": [
        "lb = aml.leaderboard"
      ],
      "metadata": {
        "id": "ybm7dg0-MBkY"
      },
      "execution_count": null,
      "outputs": []
    },
    {
      "cell_type": "code",
      "source": [
        "lb"
      ],
      "metadata": {
        "id": "4Ekdj2iUMELU"
      },
      "execution_count": null,
      "outputs": []
    },
    {
      "cell_type": "code",
      "source": [
        "churn_pred=aml.leader.predict(churn_test)"
      ],
      "metadata": {
        "id": "kHXwVdj3MGDF"
      },
      "execution_count": null,
      "outputs": []
    },
    {
      "cell_type": "code",
      "source": [
        "### THESE ARE REAL PREDICTIONS BASED ON THE BEST MODEL\n",
        "churn_pred.head()"
      ],
      "metadata": {
        "id": "cYoiupMeMcxV"
      },
      "execution_count": null,
      "outputs": []
    },
    {
      "cell_type": "code",
      "source": [
        "aml.leader.model_performance(churn_test)"
      ],
      "metadata": {
        "id": "au6v9f-PMeSi"
      },
      "execution_count": null,
      "outputs": []
    },
    {
      "cell_type": "code",
      "source": [
        "model_ids = list(aml.leaderboard['model_id'].as_data_frame().iloc[:,0])\n",
        "#se = h2o.get_model([mid for mid in model_ids if \"StackedEnsemble_AllModels\" in mid][0])\n",
        "#metalearner = h2o.get_model(se.metalearner()['name'])"
      ],
      "metadata": {
        "id": "tgc1c7EONFKH"
      },
      "execution_count": null,
      "outputs": []
    },
    {
      "cell_type": "code",
      "source": [
        "model_ids"
      ],
      "metadata": {
        "id": "gLsfYsmbNSc8"
      },
      "execution_count": null,
      "outputs": []
    },
    {
      "cell_type": "code",
      "source": [
        "h2o.get_model([mid for mid in model_ids if \"XGBoost\" in mid][0])"
      ],
      "metadata": {
        "id": "axQyetgwNUJi"
      },
      "execution_count": null,
      "outputs": []
    },
    {
      "cell_type": "code",
      "source": [
        "out = h2o.get_model([mid for mid in model_ids if \"XGBoost\" in mid][0])"
      ],
      "metadata": {
        "id": "MQirMarKOrsD"
      },
      "execution_count": null,
      "outputs": []
    },
    {
      "cell_type": "code",
      "source": [
        "out.model_performance(churn_test)"
      ],
      "metadata": {
        "id": "l6OyzxxWPrAv"
      },
      "execution_count": null,
      "outputs": []
    },
    {
      "cell_type": "code",
      "source": [
        "out.params"
      ],
      "metadata": {
        "id": "bFVp0NNhPB7w"
      },
      "execution_count": null,
      "outputs": []
    },
    {
      "cell_type": "code",
      "source": [
        "out.convert_H2OXGBoostParams_2_XGBoostParams()"
      ],
      "metadata": {
        "id": "HbC5PMqkPDb_"
      },
      "execution_count": null,
      "outputs": []
    },
    {
      "cell_type": "code",
      "source": [
        "out"
      ],
      "metadata": {
        "id": "lcdkChEnPFrH"
      },
      "execution_count": null,
      "outputs": []
    },
    {
      "cell_type": "code",
      "source": [
        "out.varimp_plot()"
      ],
      "metadata": {
        "id": "jeUZ4NjKPLgj"
      },
      "execution_count": null,
      "outputs": []
    },
    {
      "cell_type": "code",
      "source": [
        "aml.leader.download_mojo(path = \"./\")"
      ],
      "metadata": {
        "id": "d-4AE67fPTwt"
      },
      "execution_count": null,
      "outputs": []
    }
  ]
}